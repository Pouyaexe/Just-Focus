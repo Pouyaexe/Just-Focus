{
 "cells": [
  {
   "cell_type": "code",
   "execution_count": 2,
   "metadata": {},
   "outputs": [
    {
     "name": "stdout",
     "output_type": "stream",
     "text": [
      "Hey there\n"
     ]
    }
   ],
   "source": [
    "print(\"Hey there\")"
   ]
  },
  {
   "cell_type": "code",
   "execution_count": 1,
   "metadata": {},
   "outputs": [
    {
     "ename": "AttributeError",
     "evalue": "module 'cv2.face' has no attribute 'detectMultiScale'",
     "output_type": "error",
     "traceback": [
      "\u001b[1;31m---------------------------------------------------------------------------\u001b[0m",
      "\u001b[1;31mAttributeError\u001b[0m                            Traceback (most recent call last)",
      "\u001b[1;32mc:\\Users\\pouya\\Projects\\Just-Focus\\yolo.ipynb Cell 2\u001b[0m in \u001b[0;36m<cell line: 48>\u001b[1;34m()\u001b[0m\n\u001b[0;32m     <a href='vscode-notebook-cell:/c%3A/Users/pouya/Projects/Just-Focus/yolo.ipynb#W1sZmlsZQ%3D%3D?line=45'>46</a>\u001b[0m   \u001b[39m# Exit program\u001b[39;00m\n\u001b[0;32m     <a href='vscode-notebook-cell:/c%3A/Users/pouya/Projects/Just-Focus/yolo.ipynb#W1sZmlsZQ%3D%3D?line=47'>48</a>\u001b[0m \u001b[39mif\u001b[39;00m \u001b[39m__name__\u001b[39m \u001b[39m==\u001b[39m \u001b[39m'\u001b[39m\u001b[39m__main__\u001b[39m\u001b[39m'\u001b[39m:\n\u001b[1;32m---> <a href='vscode-notebook-cell:/c%3A/Users/pouya/Projects/Just-Focus/yolo.ipynb#W1sZmlsZQ%3D%3D?line=48'>49</a>\u001b[0m     main()\n",
      "\u001b[1;32mc:\\Users\\pouya\\Projects\\Just-Focus\\yolo.ipynb Cell 2\u001b[0m in \u001b[0;36mmain\u001b[1;34m()\u001b[0m\n\u001b[0;32m     <a href='vscode-notebook-cell:/c%3A/Users/pouya/Projects/Just-Focus/yolo.ipynb#W1sZmlsZQ%3D%3D?line=21'>22</a>\u001b[0m       \u001b[39mbreak\u001b[39;00m\n\u001b[0;32m     <a href='vscode-notebook-cell:/c%3A/Users/pouya/Projects/Just-Focus/yolo.ipynb#W1sZmlsZQ%3D%3D?line=22'>23</a>\u001b[0m \u001b[39m# Detect faces in frame\u001b[39;00m\n\u001b[1;32m---> <a href='vscode-notebook-cell:/c%3A/Users/pouya/Projects/Just-Focus/yolo.ipynb#W1sZmlsZQ%3D%3D?line=23'>24</a>\u001b[0m   faces \u001b[39m=\u001b[39m cv2\u001b[39m.\u001b[39;49mface\u001b[39m.\u001b[39;49mdetectMultiScale(frame, \u001b[39m1.3\u001b[39m, \u001b[39m5\u001b[39m)\n\u001b[0;32m     <a href='vscode-notebook-cell:/c%3A/Users/pouya/Projects/Just-Focus/yolo.ipynb#W1sZmlsZQ%3D%3D?line=24'>25</a>\u001b[0m \u001b[39m# Check if faces were detected\u001b[39;00m\n\u001b[0;32m     <a href='vscode-notebook-cell:/c%3A/Users/pouya/Projects/Just-Focus/yolo.ipynb#W1sZmlsZQ%3D%3D?line=25'>26</a>\u001b[0m   \u001b[39mif\u001b[39;00m faces\u001b[39m.\u001b[39mshape[\u001b[39m0\u001b[39m] \u001b[39m>\u001b[39m \u001b[39m0\u001b[39m:\n\u001b[0;32m     <a href='vscode-notebook-cell:/c%3A/Users/pouya/Projects/Just-Focus/yolo.ipynb#W1sZmlsZQ%3D%3D?line=26'>27</a>\u001b[0m       \u001b[39m# Draw detected faces on frame\u001b[39;00m\n",
      "\u001b[1;31mAttributeError\u001b[0m: module 'cv2.face' has no attribute 'detectMultiScale'"
     ]
    }
   ],
   "source": [
    "# Use open cv to detect faces in the webcam feed\n",
    "\n",
    "import cv2\n",
    "import numpy as np\n",
    "import sys\n",
    "\n",
    "def main():\n",
    "    # Open webcam feed\n",
    "    cap = cv2.VideoCapture(0)\n",
    "        # Check if webcam feed is open\n",
    "    if not cap.isOpened():\n",
    "        print(\"Error: webcam feed not open\")\n",
    "        sys.exit()\n",
    "            # Create an empty array to store the detected faces\n",
    "    faces = np.empty((0,), dtype=np.uint8)\n",
    "      # Loop until webcam feed is closed\n",
    "    while True:\n",
    "        # Capture frame from webcam feed\n",
    "        ret, frame = cap.read()\n",
    "      # Check if webcam feed is closed\n",
    "        if not ret:\n",
    "            break\n",
    "      # Detect faces in frame\n",
    "        faces = cv2.face.detectMultiScale(frame, 1.3, 5)\n",
    "      # Check if faces were detected\n",
    "        if faces.shape[0] > 0:\n",
    "            # Draw detected faces on frame\n",
    "            for (x, y, w, h) in faces:\n",
    "                cv2.rectangle(frame, (x, y), (x+w, y+h), (0, 255, 0), 2)\n",
    "              # Show detected faces on frame\n",
    "            cv2.imshow('faces', frame)\n",
    "          # Show webcam feed on frame\n",
    "        else:\n",
    "            cv2.imshow('webcam', frame)\n",
    "          # Wait for user input\n",
    "        k = cv2.waitKey(10)\n",
    "      # If user presses 'q' or 'Q'\n",
    "        if k == ord('q') or k == ord('Q'):\n",
    "            break\n",
    "    # Close webcam feed\n",
    "    cap.release()\n",
    "  # Close webcam feed\n",
    "    cv2.destroyAllWindows()\n",
    "  # Exit program\n",
    "    sys.exit()\n",
    "  # Exit program\n",
    "\n",
    "if __name__ == '__main__':\n",
    "    main()"
   ]
  }
 ],
 "metadata": {
  "kernelspec": {
   "display_name": "Python 3.10.4 ('pytorch')",
   "language": "python",
   "name": "python3"
  },
  "language_info": {
   "codemirror_mode": {
    "name": "ipython",
    "version": 3
   },
   "file_extension": ".py",
   "mimetype": "text/x-python",
   "name": "python",
   "nbconvert_exporter": "python",
   "pygments_lexer": "ipython3",
   "version": "3.10.4"
  },
  "orig_nbformat": 4,
  "vscode": {
   "interpreter": {
    "hash": "16fac55749e6291cf1fb1cca0009465826520f74af157c49a742eded4a6fab47"
   }
  }
 },
 "nbformat": 4,
 "nbformat_minor": 2
}
