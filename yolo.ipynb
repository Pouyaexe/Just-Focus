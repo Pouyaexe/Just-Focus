{
 "cells": [
  {
   "cell_type": "code",
   "execution_count": 2,
   "metadata": {},
   "outputs": [
    {
     "name": "stdout",
     "output_type": "stream",
     "text": [
      "Hey there\n"
     ]
    }
   ],
   "source": [
    "print(\"Hey there\")"
   ]
  },
  {
   "cell_type": "code",
   "execution_count": 1,
   "metadata": {},
   "outputs": [
    {
     "ename": "AttributeError",
     "evalue": "module 'cv2.face' has no attribute 'detectMultiScale'",
     "output_type": "error",
     "traceback": [
      "\u001b[1;31m---------------------------------------------------------------------------\u001b[0m",
      "\u001b[1;31mAttributeError\u001b[0m                            Traceback (most recent call last)",
      "\u001b[1;32mc:\\Users\\pouya\\Projects\\Just-Focus\\yolo.ipynb Cell 2\u001b[0m in \u001b[0;36m<cell line: 48>\u001b[1;34m()\u001b[0m\n\u001b[0;32m     <a href='vscode-notebook-cell:/c%3A/Users/pouya/Projects/Just-Focus/yolo.ipynb#W1sZmlsZQ%3D%3D?line=45'>46</a>\u001b[0m   \u001b[39m# Exit program\u001b[39;00m\n\u001b[0;32m     <a href='vscode-notebook-cell:/c%3A/Users/pouya/Projects/Just-Focus/yolo.ipynb#W1sZmlsZQ%3D%3D?line=47'>48</a>\u001b[0m \u001b[39mif\u001b[39;00m \u001b[39m__name__\u001b[39m \u001b[39m==\u001b[39m \u001b[39m'\u001b[39m\u001b[39m__main__\u001b[39m\u001b[39m'\u001b[39m:\n\u001b[1;32m---> <a href='vscode-notebook-cell:/c%3A/Users/pouya/Projects/Just-Focus/yolo.ipynb#W1sZmlsZQ%3D%3D?line=48'>49</a>\u001b[0m     main()\n",
      "\u001b[1;32mc:\\Users\\pouya\\Projects\\Just-Focus\\yolo.ipynb Cell 2\u001b[0m in \u001b[0;36mmain\u001b[1;34m()\u001b[0m\n\u001b[0;32m     <a href='vscode-notebook-cell:/c%3A/Users/pouya/Projects/Just-Focus/yolo.ipynb#W1sZmlsZQ%3D%3D?line=21'>22</a>\u001b[0m       \u001b[39mbreak\u001b[39;00m\n\u001b[0;32m     <a href='vscode-notebook-cell:/c%3A/Users/pouya/Projects/Just-Focus/yolo.ipynb#W1sZmlsZQ%3D%3D?line=22'>23</a>\u001b[0m \u001b[39m# Detect faces in frame\u001b[39;00m\n\u001b[1;32m---> <a href='vscode-notebook-cell:/c%3A/Users/pouya/Projects/Just-Focus/yolo.ipynb#W1sZmlsZQ%3D%3D?line=23'>24</a>\u001b[0m   faces \u001b[39m=\u001b[39m cv2\u001b[39m.\u001b[39;49mface\u001b[39m.\u001b[39;49mdetectMultiScale(frame, \u001b[39m1.3\u001b[39m, \u001b[39m5\u001b[39m)\n\u001b[0;32m     <a href='vscode-notebook-cell:/c%3A/Users/pouya/Projects/Just-Focus/yolo.ipynb#W1sZmlsZQ%3D%3D?line=24'>25</a>\u001b[0m \u001b[39m# Check if faces were detected\u001b[39;00m\n\u001b[0;32m     <a href='vscode-notebook-cell:/c%3A/Users/pouya/Projects/Just-Focus/yolo.ipynb#W1sZmlsZQ%3D%3D?line=25'>26</a>\u001b[0m   \u001b[39mif\u001b[39;00m faces\u001b[39m.\u001b[39mshape[\u001b[39m0\u001b[39m] \u001b[39m>\u001b[39m \u001b[39m0\u001b[39m:\n\u001b[0;32m     <a href='vscode-notebook-cell:/c%3A/Users/pouya/Projects/Just-Focus/yolo.ipynb#W1sZmlsZQ%3D%3D?line=26'>27</a>\u001b[0m       \u001b[39m# Draw detected faces on frame\u001b[39;00m\n",
      "\u001b[1;31mAttributeError\u001b[0m: module 'cv2.face' has no attribute 'detectMultiScale'"
     ]
    }
   ],
   "source": []
  }
 ],
 "metadata": {
  "kernelspec": {
   "display_name": "Python 3.10.4 ('pytorch')",
   "language": "python",
   "name": "python3"
  },
  "language_info": {
   "codemirror_mode": {
    "name": "ipython",
    "version": 3
   },
   "file_extension": ".py",
   "mimetype": "text/x-python",
   "name": "python",
   "nbconvert_exporter": "python",
   "pygments_lexer": "ipython3",
   "version": "3.10.4"
  },
  "orig_nbformat": 4,
  "vscode": {
   "interpreter": {
    "hash": "16fac55749e6291cf1fb1cca0009465826520f74af157c49a742eded4a6fab47"
   }
  }
 },
 "nbformat": 4,
 "nbformat_minor": 2
}
