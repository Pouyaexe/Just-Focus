{
 "cells": [
  {
   "cell_type": "code",
   "execution_count": 2,
   "metadata": {},
   "outputs": [],
   "source": [
    "import cv2 \n",
    "\n",
    "stream = cv2.VideoCapture(0)"
   ]
  },
  {
   "cell_type": "code",
   "execution_count": 8,
   "metadata": {},
   "outputs": [
    {
     "ename": "ModuleNotFoundError",
     "evalue": "No module named 'requests'",
     "output_type": "error",
     "traceback": [
      "\u001b[0;31m---------------------------------------------------------------------------\u001b[0m",
      "\u001b[0;31mModuleNotFoundError\u001b[0m                       Traceback (most recent call last)",
      "\u001b[1;32m/Users/pouya/VS/Just-Focus/main.ipynb Cell 2\u001b[0m in \u001b[0;36m<cell line: 2>\u001b[0;34m()\u001b[0m\n\u001b[1;32m      <a href='vscode-notebook-cell:/Users/pouya/VS/Just-Focus/main.ipynb#W1sZmlsZQ%3D%3D?line=0'>1</a>\u001b[0m \u001b[39mimport\u001b[39;00m \u001b[39mtorch\u001b[39;00m\n\u001b[0;32m----> <a href='vscode-notebook-cell:/Users/pouya/VS/Just-Focus/main.ipynb#W1sZmlsZQ%3D%3D?line=1'>2</a>\u001b[0m \u001b[39mimport\u001b[39;00m \u001b[39mrequests\u001b[39;00m\n\u001b[1;32m      <a href='vscode-notebook-cell:/Users/pouya/VS/Just-Focus/main.ipynb#W1sZmlsZQ%3D%3D?line=2'>3</a>\u001b[0m \u001b[39mfrom\u001b[39;00m \u001b[39mtorch\u001b[39;00m \u001b[39mimport\u001b[39;00m hub \u001b[39m# Hub contains other models like FasterRCNN\u001b[39;00m\n\u001b[1;32m      <a href='vscode-notebook-cell:/Users/pouya/VS/Just-Focus/main.ipynb#W1sZmlsZQ%3D%3D?line=3'>4</a>\u001b[0m model \u001b[39m=\u001b[39m torch\u001b[39m.\u001b[39mhub\u001b[39m.\u001b[39mload( \\\n\u001b[1;32m      <a href='vscode-notebook-cell:/Users/pouya/VS/Just-Focus/main.ipynb#W1sZmlsZQ%3D%3D?line=4'>5</a>\u001b[0m                       \u001b[39m'\u001b[39m\u001b[39multralytics/yolov5\u001b[39m\u001b[39m'\u001b[39m, \\\n\u001b[1;32m      <a href='vscode-notebook-cell:/Users/pouya/VS/Just-Focus/main.ipynb#W1sZmlsZQ%3D%3D?line=5'>6</a>\u001b[0m                       \u001b[39m'\u001b[39m\u001b[39myolov5s\u001b[39m\u001b[39m'\u001b[39m, \\\n\u001b[1;32m      <a href='vscode-notebook-cell:/Users/pouya/VS/Just-Focus/main.ipynb#W1sZmlsZQ%3D%3D?line=6'>7</a>\u001b[0m                       pretrained\u001b[39m=\u001b[39m\u001b[39mTrue\u001b[39;00m)\n",
      "\u001b[0;31mModuleNotFoundError\u001b[0m: No module named 'requests'"
     ]
    }
   ],
   "source": [
    "import torch\n",
    "import requests\n",
    "from torch import hub # Hub contains other models like FasterRCNN\n",
    "model = torch.hub.load( \\\n",
    "                      'ultralytics/yolov5', \\\n",
    "                      'yolov5s', \\\n",
    "                      pretrained=True)"
   ]
  },
  {
   "cell_type": "code",
   "execution_count": null,
   "metadata": {},
   "outputs": [],
   "source": []
  }
 ],
 "metadata": {
  "kernelspec": {
   "display_name": "Python 3.10.6 ('cv2')",
   "language": "python",
   "name": "python3"
  },
  "language_info": {
   "codemirror_mode": {
    "name": "ipython",
    "version": 3
   },
   "file_extension": ".py",
   "mimetype": "text/x-python",
   "name": "python",
   "nbconvert_exporter": "python",
   "pygments_lexer": "ipython3",
   "version": "3.10.6"
  },
  "orig_nbformat": 4,
  "vscode": {
   "interpreter": {
    "hash": "470953b5505bc90dad83e9ed3944774dd4f0c2eee44db5a6fc2a269eb7fdebc9"
   }
  }
 },
 "nbformat": 4,
 "nbformat_minor": 2
}
