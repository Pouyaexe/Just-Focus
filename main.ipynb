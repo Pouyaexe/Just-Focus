{
 "cells": [
  {
   "cell_type": "code",
   "execution_count": null,
   "metadata": {},
   "outputs": [],
   "source": []
  }
 ],
 "metadata": {
  "kernelspec": {
   "display_name": "Python 3.9.12 ('base')",
   "language": "python",
   "name": "python3"
  },
  "language_info": {
   "name": "python",
   "version": "3.9.12"
  },
  "orig_nbformat": 4,
  "vscode": {
   "interpreter": {
    "hash": "c364802b1fc4929180a9193e2b3107d8a07488e92f5aa0aa47e75cf71fccb3b3"
   }
  }
 },
 "nbformat": 4,
 "nbformat_minor": 2
}
